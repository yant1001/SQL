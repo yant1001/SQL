{
 "cells": [
  {
   "cell_type": "markdown",
   "id": "708612e3-23b9-42b5-b267-9463d7f33cd3",
   "metadata": {},
   "source": [
    "### 기초문법\n",
    "\n",
    "# null & default & primary key\n",
    "\n",
    "\n",
    "# create\n",
    "\n",
    "\n",
    "# read\n",
    "\n",
    "\n",
    "# update\n",
    "\n",
    "\n",
    "# delete\n",
    "\n",
    "\n",
    "# concat\n",
    "\n",
    "\n",
    "# replace & char length\n",
    "\n",
    "\n",
    "# distinct\n",
    "\n",
    "\n",
    "# order by\n",
    "\n",
    "\n",
    "# limit\n",
    "\n",
    "\n",
    "# like"
   ]
  }
 ],
 "metadata": {
  "kernelspec": {
   "display_name": "Python 3 (ipykernel)",
   "language": "python",
   "name": "python3"
  },
  "language_info": {
   "codemirror_mode": {
    "name": "ipython",
    "version": 3
   },
   "file_extension": ".py",
   "mimetype": "text/x-python",
   "name": "python",
   "nbconvert_exporter": "python",
   "pygments_lexer": "ipython3",
   "version": "3.11.6"
  }
 },
 "nbformat": 4,
 "nbformat_minor": 5
}
